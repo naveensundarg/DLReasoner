{
 "cells": [
  {
   "cell_type": "markdown",
   "metadata": {},
   "source": [
    "# Introduction"
   ]
  },
  {
   "cell_type": "markdown",
   "metadata": {},
   "source": [
    "Here we show a fully differentiable propostional reasoning system. We demonstrate that the system captures the inherent structure in propositional reasoning by using a dataset with consistent and inconsistent formulae. The goal in this task is to build a classifier for classifying sets of formulae which are consistent or inconsistent.\n"
   ]
  },
  {
   "cell_type": "markdown",
   "metadata": {},
   "source": [
    "## Architecture"
   ]
  },
  {
   "cell_type": "markdown",
   "metadata": {},
   "source": [
    "The figure below shows one step in the reasoning process. We start with an initial set of formulae encoded in the workspace. Then we select a formula $f_1$ by applying a transformation parametrized by $W$. We then have to change the workspace to account for this selection. We do so by applying a different transformation to the workspace parametrized by $A$. We then repeat the transformation parametrized by $W$ to get another formula $f_2$.  We combine the two formula in a step that is parametrized by $C$. We finally incorporate the new formula in the workspace using $A$."
   ]
  },
  {
   "cell_type": "markdown",
   "metadata": {},
   "source": [
    "![title](onestep.png)\n"
   ]
  },
  {
   "cell_type": "markdown",
   "metadata": {},
   "source": [
    "## Experiment"
   ]
  },
  {
   "cell_type": "code",
   "execution_count": 1,
   "metadata": {
    "collapsed": true
   },
   "outputs": [],
   "source": [
    "import autograd.numpy as np\n",
    "from autograd import grad\n",
    "import pandas as pd\n",
    "import warnings\n",
    "warnings.filterwarnings('ignore')\n",
    "import matplotlib.pyplot as plt\n"
   ]
  },
  {
   "cell_type": "code",
   "execution_count": 2,
   "metadata": {
    "collapsed": true
   },
   "outputs": [],
   "source": [
    "train = pd.read_csv(\"./train\",header=None, names= [\"id\",\"c1\",\"c2\",\"c3\", \"c4\"])"
   ]
  },
  {
   "cell_type": "code",
   "execution_count": 3,
   "metadata": {
    "collapsed": true
   },
   "outputs": [],
   "source": [
    "test = pd.read_csv(\"./test\",header=None, names= [\"id\",\"c1\",\"c2\",\"c3\", \"c4\"])"
   ]
  },
  {
   "cell_type": "code",
   "execution_count": 4,
   "metadata": {
    "collapsed": true
   },
   "outputs": [],
   "source": [
    "def getProblem(id):\n",
    "    problemChunk = train[train[\"id\"]== (\"P\" + str(id))][[\"c1\", \"c2\", \"c3\", \"c4\"]]\n",
    "    return (problemChunk[0:len(problemChunk)-1].values.astype(float), problemChunk[\"c4\"].values[4])\n",
    "  \n",
    "def getTestProblem(id):\n",
    "    problemChunk = test[test[\"id\"]== (\"P\" + str(id))][[\"c1\", \"c2\", \"c3\", \"c4\"]]\n",
    "    return (problemChunk[0:len(problemChunk)-1].values.astype(float), problemChunk[\"c4\"].values[4])\n",
    "    "
   ]
  },
  {
   "cell_type": "code",
   "execution_count": 5,
   "metadata": {
    "collapsed": true
   },
   "outputs": [],
   "source": [
    "def sigmoid(x):\n",
    "    return 0.5 * (np.tanh(x / 2.) + 1)\n",
    "\n",
    "def reason(formulae, weights):\n",
    "    W = weights[0:4,:]\n",
    "    A = weights[4:8,:]\n",
    "    C = weights[8:12,:]\n",
    "    for d in range(0, 5):\n",
    "        f1 = np.matmul(formulae, W)\n",
    "        formulae = np.add(formulae, np.dot(A, f1))\n",
    "        f2 = np.matmul(formulae, W)\n",
    "        formulae = np.add(formulae, np.dot(A, f2))\n",
    "        c = sigmoid(np.add(f2, np.dot(f1, C)))\n",
    "        formulae = np.add(formulae, np.dot(A, c))\n",
    "    return sigmoid(np.log(np.linalg.norm(formulae)))\n",
    "    \n",
    "    "
   ]
  },
  {
   "cell_type": "code",
   "execution_count": 6,
   "metadata": {
    "collapsed": true
   },
   "outputs": [],
   "source": [
    "W = np.random.randn(4,4)\n",
    "A = np.random.randn(4,4)\n",
    "C = np.random.randn(4,4)"
   ]
  },
  {
   "cell_type": "code",
   "execution_count": 7,
   "metadata": {
    "collapsed": true
   },
   "outputs": [],
   "source": [
    "weights = np.vstack([W, A, C])"
   ]
  },
  {
   "cell_type": "code",
   "execution_count": 8,
   "metadata": {
    "collapsed": true
   },
   "outputs": [],
   "source": [
    "def training_loss(weights):\n",
    "    sumT = 0\n",
    "    # Training loss is the negative log-likelihood of the training labels.\n",
    "    for i in range(0, 100):\n",
    "        problem = getProblem(np.random.randint(0,1000))\n",
    "        target = problem[1]\n",
    "        formulae = problem[0]\n",
    "        pred = reason(formulae, weights)\n",
    "\n",
    "        sumT = sumT  - np.log(pred * target + (1 - pred) * (1 - target))\n",
    "        \n",
    "    return sumT/100\n"
   ]
  },
  {
   "cell_type": "code",
   "execution_count": 9,
   "metadata": {
    "collapsed": true
   },
   "outputs": [],
   "source": [
    "def perf(weights):\n",
    "    sumT = 0\n",
    "    # Training loss is the negative log-likelihood of the training labels.\n",
    "    for i in range(0, 1000):\n",
    "        problem = getTestProblem(i)\n",
    "        target = problem[1]\n",
    "        formulae = problem[0]\n",
    "        pred = reason(formulae, weights)\n",
    "\n",
    "        sumT = sumT  - np.log(pred * target + (1 - pred) * (1 - target))\n",
    "        \n",
    "    return sumT/1000"
   ]
  },
  {
   "cell_type": "code",
   "execution_count": 10,
   "metadata": {
    "collapsed": true
   },
   "outputs": [],
   "source": [
    "training_gradient_fun = grad(training_loss)"
   ]
  },
  {
   "cell_type": "code",
   "execution_count": 11,
   "metadata": {},
   "outputs": [
    {
     "name": "stdout",
     "output_type": "stream",
     "text": [
      "Initial loss: 0.424700991254\n"
     ]
    }
   ],
   "source": [
    "print(\"Initial loss:\", training_loss(weights))"
   ]
  },
  {
   "cell_type": "code",
   "execution_count": 12,
   "metadata": {
    "collapsed": true,
    "scrolled": true
   },
   "outputs": [],
   "source": [
    "perf_losses = np.zeros(100)\n",
    "for i in range(100):    \n",
    "    weights -= training_gradient_fun(weights) * 0.20* (1 - i/100)\n",
    "    perf_losses[i] = perf(weights)"
   ]
  },
  {
   "cell_type": "code",
   "execution_count": 13,
   "metadata": {},
   "outputs": [
    {
     "name": "stdout",
     "output_type": "stream",
     "text": [
      "Trained loss: 0.168986659369\n"
     ]
    }
   ],
   "source": [
    "print(\"Trained loss:\", training_loss(weights))"
   ]
  },
  {
   "cell_type": "code",
   "execution_count": 14,
   "metadata": {},
   "outputs": [
    {
     "data": {
      "image/png": "[encoded data removed]",
      "text/plain": [
       "<matplotlib.figure.Figure at 0x10a9ab710>"
      ]
     },
     "metadata": {},
     "output_type": "display_data"
    }
   ],
   "source": [
    "plt.plot(perf_losses)\n",
    "plt.ylabel('Test Performance During Training')\n",
    "plt.show()\n"
   ]
  },
  {
   "cell_type": "code",
   "execution_count": 15,
   "metadata": {},
   "outputs": [
    {
     "data": {
      "text/plain": [
       "0.29027037048925869"
      ]
     },
     "execution_count": 15,
     "metadata": {},
     "output_type": "execute_result"
    }
   ],
   "source": [
    "perf(weights)"
   ]
  },
  {
   "cell_type": "code",
   "execution_count": 45,
   "metadata": {
    "collapsed": true
   },
   "outputs": [],
   "source": [
    "def randomPerf():\n",
    "    sumT = 0\n",
    "    \"What is the performance if we always chose the majority label\"\n",
    "    for i in range(0, 1000):\n",
    "        problem = getTestProblem(i)\n",
    "        target = problem[1]\n",
    "        pred = 1-np.finfo(np.float32).eps\n",
    "\n",
    "        sumT = sumT  - np.log(pred * target + (1 - pred) * (1 - target))\n",
    "        \n",
    "    return sumT/1000"
   ]
  },
  {
   "cell_type": "code",
   "execution_count": 46,
   "metadata": {},
   "outputs": [
    {
     "data": {
      "text/plain": [
       "1.1797366117008301"
      ]
     },
     "execution_count": 46,
     "metadata": {},
     "output_type": "execute_result"
    }
   ],
   "source": [
    "groundPerf()"
   ]
  },
  {
   "cell_type": "code",
   "execution_count": null,
   "metadata": {
    "collapsed": true
   },
   "outputs": [],
   "source": []
  }
 ],
 "metadata": {
  "kernelspec": {
   "display_name": "Python 3",
   "language": "python",
   "name": "python3"
  },
  "language_info": {
   "codemirror_mode": {
    "name": "ipython",
    "version": 3
   },
   "file_extension": ".py",
   "mimetype": "text/x-python",
   "name": "python",
   "nbconvert_exporter": "python",
   "pygments_lexer": "ipython3",
   "version": "3.6.1"
  }
 },
 "nbformat": 4,
 "nbformat_minor": 2
}
