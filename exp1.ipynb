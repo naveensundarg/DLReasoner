{
 "cells": [
  {
   "cell_type": "markdown",
   "metadata": {},
   "source": [
    "## Introduction"
   ]
  },
  {
   "cell_type": "markdown",
   "metadata": {},
   "source": [
    "Explain this"
   ]
  },
  {
   "cell_type": "code",
   "execution_count": 1660,
   "metadata": {
    "collapsed": true
   },
   "outputs": [],
   "source": [
    "import autograd.numpy as np\n",
    "from autograd import grad\n",
    "import pandas as pd\n",
    "import warnings\n",
    "warnings.filterwarnings('ignore')\n",
    "import matplotlib.pyplot as plt\n"
   ]
  },
  {
   "cell_type": "code",
   "execution_count": 1661,
   "metadata": {},
   "outputs": [],
   "source": [
    "df = pd.read_csv(\"./train\",header=None, names= [\"id\",\"c1\",\"c2\",\"c3\", \"c4\", \"c5\"])"
   ]
  },
  {
   "cell_type": "code",
   "execution_count": 1662,
   "metadata": {
    "collapsed": true
   },
   "outputs": [],
   "source": [
    "test = pd.read_csv(\"./test\",header=None, names= [\"id\",\"c1\",\"c2\",\"c3\", \"c4\",\"c5\"])"
   ]
  },
  {
   "cell_type": "code",
   "execution_count": 1688,
   "metadata": {},
   "outputs": [
    {
     "data": {
      "text/html": [
       "<div>\n",
       "<style>\n",
       "    .dataframe thead tr:only-child th {\n",
       "        text-align: right;\n",
       "    }\n",
       "\n",
       "    .dataframe thead th {\n",
       "        text-align: left;\n",
       "    }\n",
       "\n",
       "    .dataframe tbody tr th {\n",
       "        vertical-align: top;\n",
       "    }\n",
       "</style>\n",
       "<table border=\"1\" class=\"dataframe\">\n",
       "  <thead>\n",
       "    <tr style=\"text-align: right;\">\n",
       "      <th></th>\n",
       "      <th>id</th>\n",
       "      <th>c1</th>\n",
       "      <th>c2</th>\n",
       "      <th>c3</th>\n",
       "      <th>c4</th>\n",
       "      <th>c5</th>\n",
       "    </tr>\n",
       "  </thead>\n",
       "  <tbody>\n",
       "    <tr>\n",
       "      <th>0</th>\n",
       "      <td>P0</td>\n",
       "      <td>-1</td>\n",
       "      <td>0</td>\n",
       "      <td>0</td>\n",
       "      <td>1</td>\n",
       "      <td>0</td>\n",
       "    </tr>\n",
       "    <tr>\n",
       "      <th>1</th>\n",
       "      <td>P0</td>\n",
       "      <td>1</td>\n",
       "      <td>-1</td>\n",
       "      <td>0</td>\n",
       "      <td>-1</td>\n",
       "      <td>0</td>\n",
       "    </tr>\n",
       "    <tr>\n",
       "      <th>2</th>\n",
       "      <td>P0</td>\n",
       "      <td>-1</td>\n",
       "      <td>1</td>\n",
       "      <td>-1</td>\n",
       "      <td>-1</td>\n",
       "      <td>-1</td>\n",
       "    </tr>\n",
       "    <tr>\n",
       "      <th>3</th>\n",
       "      <td>P0</td>\n",
       "      <td>0</td>\n",
       "      <td>-1</td>\n",
       "      <td>0</td>\n",
       "      <td>0</td>\n",
       "      <td>-1</td>\n",
       "    </tr>\n",
       "    <tr>\n",
       "      <th>4</th>\n",
       "      <td>P0</td>\n",
       "      <td>0</td>\n",
       "      <td>0</td>\n",
       "      <td>0</td>\n",
       "      <td>1</td>\n",
       "      <td>-1</td>\n",
       "    </tr>\n",
       "    <tr>\n",
       "      <th>5</th>\n",
       "      <td>P0</td>\n",
       "      <td>0</td>\n",
       "      <td>0</td>\n",
       "      <td>0</td>\n",
       "      <td>0</td>\n",
       "      <td>1</td>\n",
       "    </tr>\n",
       "    <tr>\n",
       "      <th>6</th>\n",
       "      <td>P1</td>\n",
       "      <td>1</td>\n",
       "      <td>1</td>\n",
       "      <td>0</td>\n",
       "      <td>0</td>\n",
       "      <td>0</td>\n",
       "    </tr>\n",
       "    <tr>\n",
       "      <th>7</th>\n",
       "      <td>P1</td>\n",
       "      <td>0</td>\n",
       "      <td>0</td>\n",
       "      <td>1</td>\n",
       "      <td>0</td>\n",
       "      <td>-1</td>\n",
       "    </tr>\n",
       "    <tr>\n",
       "      <th>8</th>\n",
       "      <td>P1</td>\n",
       "      <td>0</td>\n",
       "      <td>0</td>\n",
       "      <td>-1</td>\n",
       "      <td>0</td>\n",
       "      <td>0</td>\n",
       "    </tr>\n",
       "    <tr>\n",
       "      <th>9</th>\n",
       "      <td>P1</td>\n",
       "      <td>1</td>\n",
       "      <td>0</td>\n",
       "      <td>1</td>\n",
       "      <td>1</td>\n",
       "      <td>0</td>\n",
       "    </tr>\n",
       "    <tr>\n",
       "      <th>10</th>\n",
       "      <td>P1</td>\n",
       "      <td>0</td>\n",
       "      <td>0</td>\n",
       "      <td>0</td>\n",
       "      <td>1</td>\n",
       "      <td>1</td>\n",
       "    </tr>\n",
       "    <tr>\n",
       "      <th>11</th>\n",
       "      <td>P1</td>\n",
       "      <td>0</td>\n",
       "      <td>0</td>\n",
       "      <td>0</td>\n",
       "      <td>0</td>\n",
       "      <td>1</td>\n",
       "    </tr>\n",
       "    <tr>\n",
       "      <th>12</th>\n",
       "      <td>P2</td>\n",
       "      <td>1</td>\n",
       "      <td>0</td>\n",
       "      <td>0</td>\n",
       "      <td>1</td>\n",
       "      <td>-1</td>\n",
       "    </tr>\n",
       "    <tr>\n",
       "      <th>13</th>\n",
       "      <td>P2</td>\n",
       "      <td>-1</td>\n",
       "      <td>1</td>\n",
       "      <td>0</td>\n",
       "      <td>1</td>\n",
       "      <td>0</td>\n",
       "    </tr>\n",
       "    <tr>\n",
       "      <th>14</th>\n",
       "      <td>P2</td>\n",
       "      <td>0</td>\n",
       "      <td>0</td>\n",
       "      <td>0</td>\n",
       "      <td>0</td>\n",
       "      <td>1</td>\n",
       "    </tr>\n",
       "    <tr>\n",
       "      <th>15</th>\n",
       "      <td>P2</td>\n",
       "      <td>0</td>\n",
       "      <td>0</td>\n",
       "      <td>0</td>\n",
       "      <td>1</td>\n",
       "      <td>0</td>\n",
       "    </tr>\n",
       "    <tr>\n",
       "      <th>16</th>\n",
       "      <td>P2</td>\n",
       "      <td>0</td>\n",
       "      <td>0</td>\n",
       "      <td>-1</td>\n",
       "      <td>0</td>\n",
       "      <td>0</td>\n",
       "    </tr>\n",
       "    <tr>\n",
       "      <th>17</th>\n",
       "      <td>P2</td>\n",
       "      <td>0</td>\n",
       "      <td>0</td>\n",
       "      <td>0</td>\n",
       "      <td>0</td>\n",
       "      <td>1</td>\n",
       "    </tr>\n",
       "    <tr>\n",
       "      <th>18</th>\n",
       "      <td>P3</td>\n",
       "      <td>0</td>\n",
       "      <td>0</td>\n",
       "      <td>0</td>\n",
       "      <td>1</td>\n",
       "      <td>0</td>\n",
       "    </tr>\n",
       "    <tr>\n",
       "      <th>19</th>\n",
       "      <td>P3</td>\n",
       "      <td>1</td>\n",
       "      <td>-1</td>\n",
       "      <td>0</td>\n",
       "      <td>1</td>\n",
       "      <td>0</td>\n",
       "    </tr>\n",
       "    <tr>\n",
       "      <th>20</th>\n",
       "      <td>P3</td>\n",
       "      <td>0</td>\n",
       "      <td>0</td>\n",
       "      <td>0</td>\n",
       "      <td>0</td>\n",
       "      <td>-1</td>\n",
       "    </tr>\n",
       "    <tr>\n",
       "      <th>21</th>\n",
       "      <td>P3</td>\n",
       "      <td>0</td>\n",
       "      <td>0</td>\n",
       "      <td>0</td>\n",
       "      <td>0</td>\n",
       "      <td>1</td>\n",
       "    </tr>\n",
       "    <tr>\n",
       "      <th>22</th>\n",
       "      <td>P3</td>\n",
       "      <td>0</td>\n",
       "      <td>0</td>\n",
       "      <td>-1</td>\n",
       "      <td>-1</td>\n",
       "      <td>1</td>\n",
       "    </tr>\n",
       "    <tr>\n",
       "      <th>23</th>\n",
       "      <td>P3</td>\n",
       "      <td>0</td>\n",
       "      <td>0</td>\n",
       "      <td>0</td>\n",
       "      <td>0</td>\n",
       "      <td>0</td>\n",
       "    </tr>\n",
       "    <tr>\n",
       "      <th>24</th>\n",
       "      <td>P4</td>\n",
       "      <td>0</td>\n",
       "      <td>1</td>\n",
       "      <td>-1</td>\n",
       "      <td>-1</td>\n",
       "      <td>0</td>\n",
       "    </tr>\n",
       "    <tr>\n",
       "      <th>25</th>\n",
       "      <td>P4</td>\n",
       "      <td>1</td>\n",
       "      <td>0</td>\n",
       "      <td>1</td>\n",
       "      <td>0</td>\n",
       "      <td>1</td>\n",
       "    </tr>\n",
       "    <tr>\n",
       "      <th>26</th>\n",
       "      <td>P4</td>\n",
       "      <td>0</td>\n",
       "      <td>1</td>\n",
       "      <td>0</td>\n",
       "      <td>0</td>\n",
       "      <td>0</td>\n",
       "    </tr>\n",
       "    <tr>\n",
       "      <th>27</th>\n",
       "      <td>P4</td>\n",
       "      <td>0</td>\n",
       "      <td>0</td>\n",
       "      <td>-1</td>\n",
       "      <td>0</td>\n",
       "      <td>-1</td>\n",
       "    </tr>\n",
       "    <tr>\n",
       "      <th>28</th>\n",
       "      <td>P4</td>\n",
       "      <td>1</td>\n",
       "      <td>1</td>\n",
       "      <td>1</td>\n",
       "      <td>0</td>\n",
       "      <td>0</td>\n",
       "    </tr>\n",
       "    <tr>\n",
       "      <th>29</th>\n",
       "      <td>P4</td>\n",
       "      <td>0</td>\n",
       "      <td>0</td>\n",
       "      <td>0</td>\n",
       "      <td>0</td>\n",
       "      <td>1</td>\n",
       "    </tr>\n",
       "    <tr>\n",
       "      <th>...</th>\n",
       "      <td>...</td>\n",
       "      <td>...</td>\n",
       "      <td>...</td>\n",
       "      <td>...</td>\n",
       "      <td>...</td>\n",
       "      <td>...</td>\n",
       "    </tr>\n",
       "    <tr>\n",
       "      <th>5970</th>\n",
       "      <td>P995</td>\n",
       "      <td>0</td>\n",
       "      <td>0</td>\n",
       "      <td>-1</td>\n",
       "      <td>0</td>\n",
       "      <td>0</td>\n",
       "    </tr>\n",
       "    <tr>\n",
       "      <th>5971</th>\n",
       "      <td>P995</td>\n",
       "      <td>0</td>\n",
       "      <td>-1</td>\n",
       "      <td>0</td>\n",
       "      <td>0</td>\n",
       "      <td>1</td>\n",
       "    </tr>\n",
       "    <tr>\n",
       "      <th>5972</th>\n",
       "      <td>P995</td>\n",
       "      <td>0</td>\n",
       "      <td>1</td>\n",
       "      <td>0</td>\n",
       "      <td>0</td>\n",
       "      <td>-1</td>\n",
       "    </tr>\n",
       "    <tr>\n",
       "      <th>5973</th>\n",
       "      <td>P995</td>\n",
       "      <td>0</td>\n",
       "      <td>0</td>\n",
       "      <td>0</td>\n",
       "      <td>1</td>\n",
       "      <td>0</td>\n",
       "    </tr>\n",
       "    <tr>\n",
       "      <th>5974</th>\n",
       "      <td>P995</td>\n",
       "      <td>1</td>\n",
       "      <td>0</td>\n",
       "      <td>0</td>\n",
       "      <td>0</td>\n",
       "      <td>1</td>\n",
       "    </tr>\n",
       "    <tr>\n",
       "      <th>5975</th>\n",
       "      <td>P995</td>\n",
       "      <td>0</td>\n",
       "      <td>0</td>\n",
       "      <td>0</td>\n",
       "      <td>0</td>\n",
       "      <td>1</td>\n",
       "    </tr>\n",
       "    <tr>\n",
       "      <th>5976</th>\n",
       "      <td>P996</td>\n",
       "      <td>0</td>\n",
       "      <td>-1</td>\n",
       "      <td>-1</td>\n",
       "      <td>1</td>\n",
       "      <td>-1</td>\n",
       "    </tr>\n",
       "    <tr>\n",
       "      <th>5977</th>\n",
       "      <td>P996</td>\n",
       "      <td>1</td>\n",
       "      <td>1</td>\n",
       "      <td>0</td>\n",
       "      <td>-1</td>\n",
       "      <td>1</td>\n",
       "    </tr>\n",
       "    <tr>\n",
       "      <th>5978</th>\n",
       "      <td>P996</td>\n",
       "      <td>-1</td>\n",
       "      <td>0</td>\n",
       "      <td>0</td>\n",
       "      <td>0</td>\n",
       "      <td>0</td>\n",
       "    </tr>\n",
       "    <tr>\n",
       "      <th>5979</th>\n",
       "      <td>P996</td>\n",
       "      <td>0</td>\n",
       "      <td>1</td>\n",
       "      <td>1</td>\n",
       "      <td>1</td>\n",
       "      <td>1</td>\n",
       "    </tr>\n",
       "    <tr>\n",
       "      <th>5980</th>\n",
       "      <td>P996</td>\n",
       "      <td>0</td>\n",
       "      <td>-1</td>\n",
       "      <td>1</td>\n",
       "      <td>0</td>\n",
       "      <td>0</td>\n",
       "    </tr>\n",
       "    <tr>\n",
       "      <th>5981</th>\n",
       "      <td>P996</td>\n",
       "      <td>0</td>\n",
       "      <td>0</td>\n",
       "      <td>0</td>\n",
       "      <td>0</td>\n",
       "      <td>1</td>\n",
       "    </tr>\n",
       "    <tr>\n",
       "      <th>5982</th>\n",
       "      <td>P997</td>\n",
       "      <td>-1</td>\n",
       "      <td>0</td>\n",
       "      <td>0</td>\n",
       "      <td>0</td>\n",
       "      <td>1</td>\n",
       "    </tr>\n",
       "    <tr>\n",
       "      <th>5983</th>\n",
       "      <td>P997</td>\n",
       "      <td>1</td>\n",
       "      <td>1</td>\n",
       "      <td>0</td>\n",
       "      <td>-1</td>\n",
       "      <td>0</td>\n",
       "    </tr>\n",
       "    <tr>\n",
       "      <th>5984</th>\n",
       "      <td>P997</td>\n",
       "      <td>-1</td>\n",
       "      <td>0</td>\n",
       "      <td>1</td>\n",
       "      <td>1</td>\n",
       "      <td>0</td>\n",
       "    </tr>\n",
       "    <tr>\n",
       "      <th>5985</th>\n",
       "      <td>P997</td>\n",
       "      <td>0</td>\n",
       "      <td>-1</td>\n",
       "      <td>0</td>\n",
       "      <td>0</td>\n",
       "      <td>0</td>\n",
       "    </tr>\n",
       "    <tr>\n",
       "      <th>5986</th>\n",
       "      <td>P997</td>\n",
       "      <td>0</td>\n",
       "      <td>1</td>\n",
       "      <td>0</td>\n",
       "      <td>0</td>\n",
       "      <td>0</td>\n",
       "    </tr>\n",
       "    <tr>\n",
       "      <th>5987</th>\n",
       "      <td>P997</td>\n",
       "      <td>0</td>\n",
       "      <td>0</td>\n",
       "      <td>0</td>\n",
       "      <td>0</td>\n",
       "      <td>1</td>\n",
       "    </tr>\n",
       "    <tr>\n",
       "      <th>5988</th>\n",
       "      <td>P998</td>\n",
       "      <td>-1</td>\n",
       "      <td>-1</td>\n",
       "      <td>1</td>\n",
       "      <td>0</td>\n",
       "      <td>0</td>\n",
       "    </tr>\n",
       "    <tr>\n",
       "      <th>5989</th>\n",
       "      <td>P998</td>\n",
       "      <td>1</td>\n",
       "      <td>0</td>\n",
       "      <td>0</td>\n",
       "      <td>0</td>\n",
       "      <td>0</td>\n",
       "    </tr>\n",
       "    <tr>\n",
       "      <th>5990</th>\n",
       "      <td>P998</td>\n",
       "      <td>0</td>\n",
       "      <td>0</td>\n",
       "      <td>0</td>\n",
       "      <td>1</td>\n",
       "      <td>0</td>\n",
       "    </tr>\n",
       "    <tr>\n",
       "      <th>5991</th>\n",
       "      <td>P998</td>\n",
       "      <td>0</td>\n",
       "      <td>1</td>\n",
       "      <td>1</td>\n",
       "      <td>0</td>\n",
       "      <td>0</td>\n",
       "    </tr>\n",
       "    <tr>\n",
       "      <th>5992</th>\n",
       "      <td>P998</td>\n",
       "      <td>0</td>\n",
       "      <td>0</td>\n",
       "      <td>1</td>\n",
       "      <td>1</td>\n",
       "      <td>0</td>\n",
       "    </tr>\n",
       "    <tr>\n",
       "      <th>5993</th>\n",
       "      <td>P998</td>\n",
       "      <td>0</td>\n",
       "      <td>0</td>\n",
       "      <td>0</td>\n",
       "      <td>0</td>\n",
       "      <td>1</td>\n",
       "    </tr>\n",
       "    <tr>\n",
       "      <th>5994</th>\n",
       "      <td>P999</td>\n",
       "      <td>1</td>\n",
       "      <td>1</td>\n",
       "      <td>-1</td>\n",
       "      <td>0</td>\n",
       "      <td>0</td>\n",
       "    </tr>\n",
       "    <tr>\n",
       "      <th>5995</th>\n",
       "      <td>P999</td>\n",
       "      <td>0</td>\n",
       "      <td>-1</td>\n",
       "      <td>0</td>\n",
       "      <td>-1</td>\n",
       "      <td>0</td>\n",
       "    </tr>\n",
       "    <tr>\n",
       "      <th>5996</th>\n",
       "      <td>P999</td>\n",
       "      <td>0</td>\n",
       "      <td>0</td>\n",
       "      <td>0</td>\n",
       "      <td>0</td>\n",
       "      <td>-1</td>\n",
       "    </tr>\n",
       "    <tr>\n",
       "      <th>5997</th>\n",
       "      <td>P999</td>\n",
       "      <td>1</td>\n",
       "      <td>1</td>\n",
       "      <td>1</td>\n",
       "      <td>0</td>\n",
       "      <td>-1</td>\n",
       "    </tr>\n",
       "    <tr>\n",
       "      <th>5998</th>\n",
       "      <td>P999</td>\n",
       "      <td>1</td>\n",
       "      <td>1</td>\n",
       "      <td>-1</td>\n",
       "      <td>0</td>\n",
       "      <td>-1</td>\n",
       "    </tr>\n",
       "    <tr>\n",
       "      <th>5999</th>\n",
       "      <td>P999</td>\n",
       "      <td>0</td>\n",
       "      <td>0</td>\n",
       "      <td>0</td>\n",
       "      <td>0</td>\n",
       "      <td>1</td>\n",
       "    </tr>\n",
       "  </tbody>\n",
       "</table>\n",
       "<p>6000 rows × 6 columns</p>\n",
       "</div>"
      ],
      "text/plain": [
       "        id  c1  c2  c3  c4  c5\n",
       "0       P0  -1   0   0   1   0\n",
       "1       P0   1  -1   0  -1   0\n",
       "2       P0  -1   1  -1  -1  -1\n",
       "3       P0   0  -1   0   0  -1\n",
       "4       P0   0   0   0   1  -1\n",
       "5       P0   0   0   0   0   1\n",
       "6       P1   1   1   0   0   0\n",
       "7       P1   0   0   1   0  -1\n",
       "8       P1   0   0  -1   0   0\n",
       "9       P1   1   0   1   1   0\n",
       "10      P1   0   0   0   1   1\n",
       "11      P1   0   0   0   0   1\n",
       "12      P2   1   0   0   1  -1\n",
       "13      P2  -1   1   0   1   0\n",
       "14      P2   0   0   0   0   1\n",
       "15      P2   0   0   0   1   0\n",
       "16      P2   0   0  -1   0   0\n",
       "17      P2   0   0   0   0   1\n",
       "18      P3   0   0   0   1   0\n",
       "19      P3   1  -1   0   1   0\n",
       "20      P3   0   0   0   0  -1\n",
       "21      P3   0   0   0   0   1\n",
       "22      P3   0   0  -1  -1   1\n",
       "23      P3   0   0   0   0   0\n",
       "24      P4   0   1  -1  -1   0\n",
       "25      P4   1   0   1   0   1\n",
       "26      P4   0   1   0   0   0\n",
       "27      P4   0   0  -1   0  -1\n",
       "28      P4   1   1   1   0   0\n",
       "29      P4   0   0   0   0   1\n",
       "...    ...  ..  ..  ..  ..  ..\n",
       "5970  P995   0   0  -1   0   0\n",
       "5971  P995   0  -1   0   0   1\n",
       "5972  P995   0   1   0   0  -1\n",
       "5973  P995   0   0   0   1   0\n",
       "5974  P995   1   0   0   0   1\n",
       "5975  P995   0   0   0   0   1\n",
       "5976  P996   0  -1  -1   1  -1\n",
       "5977  P996   1   1   0  -1   1\n",
       "5978  P996  -1   0   0   0   0\n",
       "5979  P996   0   1   1   1   1\n",
       "5980  P996   0  -1   1   0   0\n",
       "5981  P996   0   0   0   0   1\n",
       "5982  P997  -1   0   0   0   1\n",
       "5983  P997   1   1   0  -1   0\n",
       "5984  P997  -1   0   1   1   0\n",
       "5985  P997   0  -1   0   0   0\n",
       "5986  P997   0   1   0   0   0\n",
       "5987  P997   0   0   0   0   1\n",
       "5988  P998  -1  -1   1   0   0\n",
       "5989  P998   1   0   0   0   0\n",
       "5990  P998   0   0   0   1   0\n",
       "5991  P998   0   1   1   0   0\n",
       "5992  P998   0   0   1   1   0\n",
       "5993  P998   0   0   0   0   1\n",
       "5994  P999   1   1  -1   0   0\n",
       "5995  P999   0  -1   0  -1   0\n",
       "5996  P999   0   0   0   0  -1\n",
       "5997  P999   1   1   1   0  -1\n",
       "5998  P999   1   1  -1   0  -1\n",
       "5999  P999   0   0   0   0   1\n",
       "\n",
       "[6000 rows x 6 columns]"
      ]
     },
     "execution_count": 1688,
     "metadata": {},
     "output_type": "execute_result"
    }
   ],
   "source": [
    "test"
   ]
  },
  {
   "cell_type": "code",
   "execution_count": 1663,
   "metadata": {},
   "outputs": [],
   "source": [
    "def getProblem(id):\n",
    "    problemChunk = df[df[\"id\"]== (\"P\" + str(id))][[\"c1\", \"c2\", \"c3\", \"c4\", \"c5\"]]\n",
    "    return (problemChunk[0:len(problemChunk)-1].values.astype(float), problemChunk[\"c5\"].values[5])\n",
    "  \n",
    "def getTestProblem(id):\n",
    "    problemChunk = test[test[\"id\"]== (\"P\" + str(id))][[\"c1\", \"c2\", \"c3\", \"c4\", \"c5\"]]\n",
    "    return (problemChunk[0:len(problemChunk)-1].values.astype(float), problemChunk[\"c5\"].values[5])\n",
    "    "
   ]
  },
  {
   "cell_type": "code",
   "execution_count": 1664,
   "metadata": {},
   "outputs": [],
   "source": [
    "count = 0"
   ]
  },
  {
   "cell_type": "code",
   "execution_count": 1665,
   "metadata": {},
   "outputs": [],
   "source": [
    "for i in range(0,1000):\n",
    "    ans = getProblem(i)\n",
    "    count = count + ans[1]"
   ]
  },
  {
   "cell_type": "code",
   "execution_count": 1666,
   "metadata": {},
   "outputs": [
    {
     "data": {
      "text/plain": [
       "959"
      ]
     },
     "execution_count": 1666,
     "metadata": {},
     "output_type": "execute_result"
    }
   ],
   "source": [
    "count"
   ]
  },
  {
   "cell_type": "code",
   "execution_count": 1667,
   "metadata": {
    "collapsed": true
   },
   "outputs": [],
   "source": [
    "def sigmoid(x):\n",
    "    return 0.5 * (np.tanh(x / 2.) + 1)\n",
    "\n",
    "def logistic_predictions(weights, inputs):\n",
    "    # Outputs probability of a label being true according to logistic model.\n",
    "    return sigmoid(np.dot(inputs, weights))\n"
   ]
  },
  {
   "cell_type": "code",
   "execution_count": 1668,
   "metadata": {},
   "outputs": [],
   "source": [
    "def reason(formulae, weights):\n",
    "    W = weights[0:5,:]\n",
    "    A = weights[5:10,:]\n",
    "    C = weights[10:15,:]\n",
    "    for d in range(0, 5):\n",
    "        f1 = np.matmul(formulae, W)\n",
    "        formulae = np.add(formulae, np.dot(A, f1))\n",
    "        f2 = np.matmul(formulae, W)\n",
    "        formulae = np.add(formulae, np.dot(A, f2))\n",
    "        c = sigmoid(np.add(f2, np.dot(f1, C)))\n",
    "        formulae = np.add(formulae, np.dot(A, c))\n",
    "    return sigmoid(np.log(np.linalg.norm(formulae)))\n",
    "    \n",
    "    "
   ]
  },
  {
   "cell_type": "code",
   "execution_count": 1669,
   "metadata": {
    "collapsed": true
   },
   "outputs": [],
   "source": [
    "W = np.random.randn(5,5)\n",
    "A = np.random.randn(5,5)\n",
    "C = np.random.randn(5,5)"
   ]
  },
  {
   "cell_type": "code",
   "execution_count": 1670,
   "metadata": {},
   "outputs": [],
   "source": [
    "weights = np.vstack([W, A, C])"
   ]
  },
  {
   "cell_type": "code",
   "execution_count": 1671,
   "metadata": {},
   "outputs": [
    {
     "data": {
      "text/plain": [
       "array([[  8.74755944e-01,   2.99052004e-01,  -6.86773073e-01,\n",
       "          1.21259561e+00,  -2.13456645e+00],\n",
       "       [ -4.77441209e-01,  -2.08928382e-01,  -2.75167947e+00,\n",
       "          2.85930375e-01,  -1.31417396e+00],\n",
       "       [  1.56512474e-01,   3.43030804e-01,  -5.34183874e-01,\n",
       "          1.09181616e+00,  -1.83422742e-01],\n",
       "       [ -7.72273602e-01,  -3.65916593e-01,  -7.98790413e-01,\n",
       "          9.93258434e-01,  -6.81831688e-01],\n",
       "       [  4.60771499e-01,   1.45924942e-01,  -1.64314082e-01,\n",
       "          1.54816847e+00,  -3.30431920e-01],\n",
       "       [  4.96235033e-01,  -4.09897085e-01,   1.17101060e+00,\n",
       "         -2.84073485e-01,  -1.99215782e+00],\n",
       "       [ -1.02057631e+00,  -4.62918184e-01,  -5.75652976e-01,\n",
       "         -1.43069297e+00,  -4.42220772e-01],\n",
       "       [ -6.55051228e-01,  -1.87554188e-01,  -6.65306587e-01,\n",
       "         -8.43592215e-04,   1.37082349e+00],\n",
       "       [ -9.04329529e-01,  -6.18525958e-01,   3.89649384e-01,\n",
       "          7.92011276e-01,  -3.15251317e-01],\n",
       "       [  7.84033058e-01,  -2.12355701e-01,  -1.15731874e-01,\n",
       "         -2.32631704e-01,  -4.61480689e-01],\n",
       "       [ -3.79537929e-01,  -9.17805791e-02,   4.31984364e-01,\n",
       "          6.54891818e-01,  -4.40302196e-01],\n",
       "       [  9.92562119e-01,  -1.46362557e+00,  -5.34313759e-01,\n",
       "         -1.05320033e+00,  -2.32582448e-01],\n",
       "       [ -9.60089736e-01,  -1.43195932e+00,  -7.94419315e-01,\n",
       "         -4.75364663e-01,   9.81845494e-01],\n",
       "       [  4.83148269e-01,   2.45781226e-01,   1.36536025e+00,\n",
       "          7.94103954e-02,  -1.49218050e+00],\n",
       "       [ -9.71340909e-01,   1.52272015e+00,  -2.10125858e-01,\n",
       "         -8.71712598e-01,  -4.77112520e-01]])"
      ]
     },
     "execution_count": 1671,
     "metadata": {},
     "output_type": "execute_result"
    }
   ],
   "source": [
    "weights"
   ]
  },
  {
   "cell_type": "code",
   "execution_count": 1672,
   "metadata": {},
   "outputs": [],
   "source": [
    "def training_loss(weights):\n",
    "    sumT = 0\n",
    "    # Training loss is the negative log-likelihood of the training labels.\n",
    "    for i in range(0, 100):\n",
    "        problem = getProblem(i)\n",
    "        target = problem[1]\n",
    "        formulae = problem[0]\n",
    "        pred = reason(formulae, weights)\n",
    "\n",
    "        sumT = sumT  - np.log(pred * target + (1 - pred) * (1 - target))\n",
    "        \n",
    "    return sumT/100\n"
   ]
  },
  {
   "cell_type": "code",
   "execution_count": 1673,
   "metadata": {
    "collapsed": true
   },
   "outputs": [],
   "source": [
    "def perf(weights):\n",
    "    sumT = 0\n",
    "    # Training loss is the negative log-likelihood of the training labels.\n",
    "    for i in range(0, 100):\n",
    "        problem = getTestProblem(i)\n",
    "        target = problem[1]\n",
    "        formulae = problem[0]\n",
    "        pred = reason(formulae, weights)\n",
    "\n",
    "        sumT = sumT  - np.log(pred * target + (1 - pred) * (1 - target))\n",
    "        \n",
    "    return sumT/100"
   ]
  },
  {
   "cell_type": "code",
   "execution_count": 1674,
   "metadata": {
    "collapsed": true
   },
   "outputs": [],
   "source": [
    "training_gradient_fun = grad(training_loss)"
   ]
  },
  {
   "cell_type": "code",
   "execution_count": 1675,
   "metadata": {},
   "outputs": [
    {
     "name": "stdout",
     "output_type": "stream",
     "text": [
      "Initial loss: 0.416328885826\n"
     ]
    }
   ],
   "source": [
    "print(\"Initial loss:\", training_loss(weights))"
   ]
  },
  {
   "cell_type": "code",
   "execution_count": 1676,
   "metadata": {},
   "outputs": [
    {
     "data": {
      "text/plain": [
       "1.1262011957597504"
      ]
     },
     "execution_count": 1676,
     "metadata": {},
     "output_type": "execute_result"
    }
   ],
   "source": [
    "perf(weights)"
   ]
  },
  {
   "cell_type": "code",
   "execution_count": 1677,
   "metadata": {},
   "outputs": [
    {
     "data": {
      "text/plain": [
       "array([[ -1.51872883e-02,   4.50084277e-04,  -1.22356516e-02,\n",
       "          1.27628638e-03,  -1.44106476e-02],\n",
       "       [ -1.43948688e-02,   4.14759419e-03,  -1.15560078e-02,\n",
       "          2.63297199e-03,  -1.38514290e-02],\n",
       "       [  1.69754171e-02,   4.40181622e-02,   2.44888325e-03,\n",
       "          2.56215348e-02,  -2.67303915e-03],\n",
       "       [ -2.95255726e-02,  -3.09061953e-02,  -1.50186012e-02,\n",
       "         -1.75104628e-02,  -1.43932132e-02],\n",
       "       [  1.92726072e-02,   4.63724923e-02,   2.63224986e-03,\n",
       "          2.74159891e-02,  -2.16715877e-03],\n",
       "       [ -3.11233549e-02,   1.16954622e-02,   4.61213664e-02,\n",
       "         -6.09836939e-03,  -1.12806839e-02],\n",
       "       [ -5.28038318e-03,  -3.21541509e-02,  -1.34306347e-02,\n",
       "         -9.44452950e-03,  -6.68612266e-03],\n",
       "       [ -3.44427968e-02,   3.10024221e-03,   1.56798742e-02,\n",
       "         -1.71273240e-02,   1.99821634e-02],\n",
       "       [ -2.01648000e-03,  -2.78174417e-02,  -1.43859758e-02,\n",
       "         -5.73207085e-03,  -5.63501343e-03],\n",
       "       [  5.73542097e-02,  -6.59997586e-02,  -7.84951222e-02,\n",
       "          1.06323186e-02,  -2.42577357e-02],\n",
       "       [  9.81832994e-05,   1.65807042e-04,  -5.24101321e-05,\n",
       "         -9.03444001e-05,  -4.28272814e-05],\n",
       "       [  3.44807830e-05,   7.13180589e-05,  -2.20325891e-05,\n",
       "         -4.48232688e-05,  -2.43506646e-05],\n",
       "       [  3.04443321e-04,  -1.31491251e-05,   7.08689077e-05,\n",
       "         -9.31533096e-05,  -5.28683091e-05],\n",
       "       [  1.91252935e-04,   2.45830994e-04,   3.25900768e-06,\n",
       "          8.41733791e-05,   1.63275754e-04],\n",
       "       [  8.24236851e-05,   2.69367077e-06,   8.32759152e-05,\n",
       "         -7.93387199e-05,  -7.47781259e-05]])"
      ]
     },
     "execution_count": 1677,
     "metadata": {},
     "output_type": "execute_result"
    }
   ],
   "source": [
    "training_gradient_fun(weights)"
   ]
  },
  {
   "cell_type": "code",
   "execution_count": 1679,
   "metadata": {
    "scrolled": true
   },
   "outputs": [],
   "source": [
    "perf_losses = np.zeros(200)\n",
    "for i in range(200):    \n",
    "    weights -= training_gradient_fun(weights) * 0.20* (1 - i/200)\n",
    "    perf_losses[i] = training_loss(weights)"
   ]
  },
  {
   "cell_type": "code",
   "execution_count": 1680,
   "metadata": {},
   "outputs": [
    {
     "name": "stdout",
     "output_type": "stream",
     "text": [
      "Trained loss: 0.134531891886\n"
     ]
    }
   ],
   "source": [
    "print(\"Trained loss:\", training_loss(weights))"
   ]
  },
  {
   "cell_type": "code",
   "execution_count": 1681,
   "metadata": {},
   "outputs": [
    {
     "data": {
      "text/plain": [
       "0.39607181050915807"
      ]
     },
     "execution_count": 1681,
     "metadata": {},
     "output_type": "execute_result"
    }
   ],
   "source": [
    "perf(weights)"
   ]
  },
  {
   "cell_type": "code",
   "execution_count": 1682,
   "metadata": {},
   "outputs": [],
   "source": [
    "answers = np.zeros(100)"
   ]
  },
  {
   "cell_type": "code",
   "execution_count": 1683,
   "metadata": {},
   "outputs": [],
   "source": [
    "preds = np.array([reason(getProblem(x)[0], weights) for x in range(0, 100)])"
   ]
  },
  {
   "cell_type": "code",
   "execution_count": 1684,
   "metadata": {},
   "outputs": [
    {
     "data": {
      "text/plain": [
       "0.97382125601774372"
      ]
     },
     "execution_count": 1684,
     "metadata": {},
     "output_type": "execute_result"
    }
   ],
   "source": [
    "min(preds)"
   ]
  },
  {
   "cell_type": "code",
   "execution_count": 1685,
   "metadata": {},
   "outputs": [
    {
     "data": {
      "text/plain": [
       "0.99764294268089637"
      ]
     },
     "execution_count": 1685,
     "metadata": {},
     "output_type": "execute_result"
    }
   ],
   "source": [
    "max(preds)"
   ]
  },
  {
   "cell_type": "code",
   "execution_count": 1686,
   "metadata": {},
   "outputs": [
    {
     "data": {
      "text/plain": [
       "8"
      ]
     },
     "execution_count": 1686,
     "metadata": {},
     "output_type": "execute_result"
    }
   ],
   "source": [
    "preds[preds<preds.mean()-1*preds.std()].size"
   ]
  },
  {
   "cell_type": "code",
   "execution_count": 1687,
   "metadata": {},
   "outputs": [
    {
     "data": {
      "image/png": "[encoded data removed]",
      "text/plain": [
       "<matplotlib.figure.Figure at 0x1140446d8>"
      ]
     },
     "metadata": {},
     "output_type": "display_data"
    }
   ],
   "source": [
    "plt.plot(perf_losses)\n",
    "plt.ylabel('Test Performance During Training')\n",
    "plt.show()\n"
   ]
  },
  {
   "cell_type": "code",
   "execution_count": 1629,
   "metadata": {
    "scrolled": true
   },
   "outputs": [],
   "source": [
    "correct= 0\n",
    "total = 0\n",
    "for i in range(0,1000):\n",
    "    problem = getTestProblem(i)\n",
    "    formulae = problem[0]\n",
    "    target = problem[1]\n",
    "    pred = reason(formulae, weights)\n",
    "    if(target == 0):\n",
    "        total = total + 1\n",
    "        correct = correct + 1\n",
    "        "
   ]
  },
  {
   "cell_type": "code",
   "execution_count": 1630,
   "metadata": {},
   "outputs": [
    {
     "data": {
      "text/plain": [
       "58"
      ]
     },
     "execution_count": 1630,
     "metadata": {},
     "output_type": "execute_result"
    }
   ],
   "source": [
    "correct"
   ]
  },
  {
   "cell_type": "code",
   "execution_count": 1634,
   "metadata": {},
   "outputs": [
    {
     "data": {
      "text/plain": [
       "array([[ 0.19064969,  1.35104817, -2.23884761,  0.23978148,  1.57010035],\n",
       "       [-0.27460872, -0.8110921 ,  0.38456171, -0.28815522, -0.29381852],\n",
       "       [-0.31312114, -1.57848662,  0.97163523, -0.46160046,  1.42648141],\n",
       "       [-0.1115231 ,  0.76771936,  1.12100964,  0.24769324,  1.06791694],\n",
       "       [ 0.02461347,  0.64565162, -0.68941827,  0.01772104, -0.11121253]])"
      ]
     },
     "execution_count": 1634,
     "metadata": {},
     "output_type": "execute_result"
    }
   ],
   "source": [
    "(weights[0:5])"
   ]
  },
  {
   "cell_type": "code",
   "execution_count": null,
   "metadata": {
    "collapsed": true
   },
   "outputs": [],
   "source": []
  }
 ],
 "metadata": {
  "kernelspec": {
   "display_name": "Python 3",
   "language": "python",
   "name": "python3"
  },
  "language_info": {
   "codemirror_mode": {
    "name": "ipython",
    "version": 3
   },
   "file_extension": ".py",
   "mimetype": "text/x-python",
   "name": "python",
   "nbconvert_exporter": "python",
   "pygments_lexer": "ipython3",
   "version": "3.6.1"
  }
 },
 "nbformat": 4,
 "nbformat_minor": 2
}
