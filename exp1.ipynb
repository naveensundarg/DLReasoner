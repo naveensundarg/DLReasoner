{
 "cells": [
  {
   "cell_type": "code",
   "execution_count": 987,
   "metadata": {
    "collapsed": true
   },
   "outputs": [],
   "source": [
    "import autograd.numpy as np\n",
    "from autograd import grad\n",
    "import pandas as pd\n",
    "import warnings\n",
    "warnings.filterwarnings('ignore')\n",
    "import matplotlib.pyplot as plt\n"
   ]
  },
  {
   "cell_type": "code",
   "execution_count": 1200,
   "metadata": {},
   "outputs": [],
   "source": [
    "df = pd.read_csv(\"./train\",header=None, names= [\"id\",\"c1\",\"c2\",\"c3\"])"
   ]
  },
  {
   "cell_type": "code",
   "execution_count": 1213,
   "metadata": {
    "collapsed": true
   },
   "outputs": [],
   "source": [
    "test = pd.read_csv(\"./test\",header=None, names= [\"id\",\"c1\",\"c2\",\"c3\"])"
   ]
  },
  {
   "cell_type": "code",
   "execution_count": 1214,
   "metadata": {},
   "outputs": [],
   "source": [
    "def getProblem(id):\n",
    "    problemChunk = df[df[\"id\"]== (\"P\" + str(id))][[\"c1\", \"c2\", \"c3\"]]\n",
    "    return (problemChunk[0:len(problemChunk)-1].values.astype(float), problemChunk[\"c3\"].values[3])\n",
    "  \n",
    "def getTestProblem(id):\n",
    "    problemChunk = test[test[\"id\"]== (\"P\" + str(id))][[\"c1\", \"c2\", \"c3\"]]\n",
    "    return (problemChunk[0:len(problemChunk)-1].values.astype(float), problemChunk[\"c3\"].values[3])\n",
    "    "
   ]
  },
  {
   "cell_type": "code",
   "execution_count": 1202,
   "metadata": {},
   "outputs": [],
   "source": [
    "count = 0"
   ]
  },
  {
   "cell_type": "code",
   "execution_count": 1203,
   "metadata": {},
   "outputs": [],
   "source": [
    "for i in range(0,100):\n",
    "    ans = getProblem(i)\n",
    "    count = count + ans[1]"
   ]
  },
  {
   "cell_type": "code",
   "execution_count": 1204,
   "metadata": {},
   "outputs": [
    {
     "data": {
      "text/plain": [
       "89"
      ]
     },
     "execution_count": 1204,
     "metadata": {},
     "output_type": "execute_result"
    }
   ],
   "source": [
    "count"
   ]
  },
  {
   "cell_type": "code",
   "execution_count": 1205,
   "metadata": {
    "collapsed": true
   },
   "outputs": [],
   "source": [
    "def sigmoid(x):\n",
    "    return 0.5 * (np.tanh(x / 2.) + 1)\n",
    "\n",
    "def logistic_predictions(weights, inputs):\n",
    "    # Outputs probability of a label being true according to logistic model.\n",
    "    return sigmoid(np.dot(inputs, weights))\n"
   ]
  },
  {
   "cell_type": "code",
   "execution_count": 1206,
   "metadata": {},
   "outputs": [],
   "source": [
    "def reason(formulae, weights):\n",
    "    W = weights[0:3,:]\n",
    "    A = weights[3:6,:]\n",
    "    C = weights[6:9,:]\n",
    "    for d in range(0, 5):\n",
    "        f1 = np.matmul(formulae, W)\n",
    "        formulae = np.add(formulae, np.dot(A, f1))\n",
    "        f2 = np.matmul(formulae, W)\n",
    "        formulae = np.add(formulae, np.dot(A, f2))\n",
    "        c = sigmoid(np.add(f2, np.dot(f1, C)))\n",
    "        formulae = np.add(formulae, np.dot(A, c))\n",
    "    return sigmoid(np.log(np.linalg.norm(formulae)))\n",
    "    \n",
    "    "
   ]
  },
  {
   "cell_type": "code",
   "execution_count": 1217,
   "metadata": {
    "collapsed": true
   },
   "outputs": [],
   "source": [
    "W = np.random.randn(3,3)\n",
    "A = np.random.randn(3,3)\n",
    "C = np.random.randn(3,3)"
   ]
  },
  {
   "cell_type": "code",
   "execution_count": 1218,
   "metadata": {},
   "outputs": [],
   "source": [
    "weights = np.vstack([W, A, C])"
   ]
  },
  {
   "cell_type": "code",
   "execution_count": 1219,
   "metadata": {},
   "outputs": [],
   "source": [
    "def training_loss(weights):\n",
    "    sumT = 0\n",
    "    # Training loss is the negative log-likelihood of the training labels.\n",
    "    for i in range(0, 100):\n",
    "        problem = getProblem(i)\n",
    "        target = problem[1]\n",
    "        formulae = problem[0]\n",
    "        pred = reason(formulae, weights)\n",
    "\n",
    "        sumT = sumT  - np.log(pred * target + (1 - pred) * (1 - target))\n",
    "        \n",
    "    return sumT/100\n"
   ]
  },
  {
   "cell_type": "code",
   "execution_count": 1220,
   "metadata": {
    "collapsed": true
   },
   "outputs": [],
   "source": [
    "def perf(weights):\n",
    "    sumT = 0\n",
    "    # Training loss is the negative log-likelihood of the training labels.\n",
    "    for i in range(0, 100):\n",
    "        problem = getTestProblem(i)\n",
    "        target = problem[1]\n",
    "        formulae = problem[0]\n",
    "        pred = reason(formulae, weights)\n",
    "\n",
    "        sumT = sumT  - np.log(pred * target + (1 - pred) * (1 - target))\n",
    "        \n",
    "    return sumT/100"
   ]
  },
  {
   "cell_type": "code",
   "execution_count": 1221,
   "metadata": {},
   "outputs": [
    {
     "data": {
      "text/plain": [
       "0.99992261578811514"
      ]
     },
     "execution_count": 1221,
     "metadata": {},
     "output_type": "execute_result"
    }
   ],
   "source": [
    "reason(getProblem(0)[0], weights)"
   ]
  },
  {
   "cell_type": "code",
   "execution_count": 1222,
   "metadata": {
    "collapsed": true
   },
   "outputs": [],
   "source": [
    "training_gradient_fun = grad(training_loss)"
   ]
  },
  {
   "cell_type": "code",
   "execution_count": 1223,
   "metadata": {},
   "outputs": [
    {
     "name": "stdout",
     "output_type": "stream",
     "text": [
      "Initial loss: 1.01627755469\n"
     ]
    }
   ],
   "source": [
    "print(\"Initial loss:\", training_loss(weights))"
   ]
  },
  {
   "cell_type": "code",
   "execution_count": 1224,
   "metadata": {},
   "outputs": [
    {
     "data": {
      "text/plain": [
       "0.47046256414718129"
      ]
     },
     "execution_count": 1224,
     "metadata": {},
     "output_type": "execute_result"
    }
   ],
   "source": [
    "perf(weights)"
   ]
  },
  {
   "cell_type": "code",
   "execution_count": 1225,
   "metadata": {},
   "outputs": [
    {
     "data": {
      "text/plain": [
       "array([[ -1.68124683e-01,   3.00228747e-02,  -9.14078600e-02],\n",
       "       [  3.76257458e-02,   1.13575338e-02,   3.67937803e-03],\n",
       "       [  1.06118773e-01,   9.20328829e-02,  -1.90755224e-01],\n",
       "       [ -6.16452384e-02,   2.33737837e-01,  -1.92900295e-01],\n",
       "       [  8.12235809e-02,  -2.61580728e-01,   2.28339391e-01],\n",
       "       [ -1.17318045e-01,   4.46003194e-01,  -3.61876916e-01],\n",
       "       [ -6.11923072e-05,   4.30606245e-05,  -4.53574610e-04],\n",
       "       [  3.43851801e-04,  -4.35334736e-04,   1.33489367e-04],\n",
       "       [  1.13037771e-03,  -1.50312001e-03,   7.80034543e-05]])"
      ]
     },
     "execution_count": 1225,
     "metadata": {},
     "output_type": "execute_result"
    }
   ],
   "source": [
    "training_gradient_fun(weights)"
   ]
  },
  {
   "cell_type": "code",
   "execution_count": 1226,
   "metadata": {
    "scrolled": true
   },
   "outputs": [],
   "source": [
    "for i in range(40):\n",
    "    weights -= training_gradient_fun(weights) * 0.25* (1 - i/100)"
   ]
  },
  {
   "cell_type": "code",
   "execution_count": 1227,
   "metadata": {},
   "outputs": [
    {
     "name": "stdout",
     "output_type": "stream",
     "text": [
      "Trained loss: 0.328525069104\n"
     ]
    }
   ],
   "source": [
    "print(\"Trained loss:\", training_loss(weights))"
   ]
  },
  {
   "cell_type": "code",
   "execution_count": 1229,
   "metadata": {},
   "outputs": [
    {
     "data": {
      "text/plain": [
       "0.23209628407042371"
      ]
     },
     "execution_count": 1229,
     "metadata": {},
     "output_type": "execute_result"
    }
   ],
   "source": [
    "perf(weights)"
   ]
  },
  {
   "cell_type": "code",
   "execution_count": 968,
   "metadata": {},
   "outputs": [],
   "source": [
    "answers = np.zeros(100)"
   ]
  },
  {
   "cell_type": "code",
   "execution_count": 972,
   "metadata": {},
   "outputs": [],
   "source": [
    "preds = np.array([reason(getProblem(x)[0], weights) for x in range(0, 100)])"
   ]
  },
  {
   "cell_type": "code",
   "execution_count": 973,
   "metadata": {},
   "outputs": [
    {
     "data": {
      "text/plain": [
       "0.51795262011858645"
      ]
     },
     "execution_count": 973,
     "metadata": {},
     "output_type": "execute_result"
    }
   ],
   "source": [
    "min(preds)"
   ]
  },
  {
   "cell_type": "code",
   "execution_count": 974,
   "metadata": {},
   "outputs": [
    {
     "data": {
      "text/plain": [
       "0.94464144421026042"
      ]
     },
     "execution_count": 974,
     "metadata": {},
     "output_type": "execute_result"
    }
   ],
   "source": [
    "max(preds)"
   ]
  },
  {
   "cell_type": "code",
   "execution_count": 985,
   "metadata": {},
   "outputs": [
    {
     "data": {
      "text/plain": [
       "23"
      ]
     },
     "execution_count": 985,
     "metadata": {},
     "output_type": "execute_result"
    }
   ],
   "source": [
    "preds[preds<preds.mean()-1*preds.std()].size"
   ]
  },
  {
   "cell_type": "code",
   "execution_count": 977,
   "metadata": {},
   "outputs": [
    {
     "data": {
      "image/png": "[encoded data removed]",
      "text/plain": [
       "<matplotlib.figure.Figure at 0x1069d7320>"
      ]
     },
     "metadata": {},
     "output_type": "display_data"
    }
   ],
   "source": [
    "plt.plot(preds)\n",
    "plt.ylabel('some numbers')\n",
    "plt.show()\n"
   ]
  },
  {
   "cell_type": "code",
   "execution_count": 986,
   "metadata": {},
   "outputs": [
    {
     "data": {
      "text/plain": [
       "(array([[ 0.,  0., -1.],\n",
       "        [-1.,  0.,  1.],\n",
       "        [-1., -1.,  0.]]), 0)"
      ]
     },
     "execution_count": 986,
     "metadata": {},
     "output_type": "execute_result"
    }
   ],
   "source": [
    "cogetProblem(0)"
   ]
  },
  {
   "cell_type": "code",
   "execution_count": null,
   "metadata": {
    "collapsed": true
   },
   "outputs": [],
   "source": [
    "correct= 0\n",
    "for i in range(0,100):\n",
    "    problem = getProblem(i)\n",
    "    formulae = problem[0]\n",
    "    target = problem[1]\n",
    "    pred = reason(formula, weights)\n",
    "    if(target>0 and pred):\n",
    "        "
   ]
  }
 ],
 "metadata": {
  "kernelspec": {
   "display_name": "Python 3",
   "language": "python",
   "name": "python3"
  },
  "language_info": {
   "codemirror_mode": {
    "name": "ipython",
    "version": 3
   },
   "file_extension": ".py",
   "mimetype": "text/x-python",
   "name": "python",
   "nbconvert_exporter": "python",
   "pygments_lexer": "ipython3",
   "version": "3.6.1"
  }
 },
 "nbformat": 4,
 "nbformat_minor": 2
}
