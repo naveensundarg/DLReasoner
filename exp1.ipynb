{
 "cells": [
  {
   "cell_type": "markdown",
   "metadata": {},
   "source": [
    "# Introduction"
   ]
  },
  {
   "cell_type": "markdown",
   "metadata": {},
   "source": [
    "Here we show a fully differentiable propostional reasoning system. We demonstrate that the system captures the inherent structure in propositional reasoning by using a dataset with consistent and inconsistent formulae. The goal in this task is to build a classifier for classifying sets of formulae which are consistent or inconsistent.\n"
   ]
  },
  {
   "cell_type": "markdown",
   "metadata": {},
   "source": [
    "## Architecture"
   ]
  },
  {
   "cell_type": "markdown",
   "metadata": {},
   "source": []
  },
  {
   "cell_type": "code",
   "execution_count": 83,
   "metadata": {
    "collapsed": true
   },
   "outputs": [],
   "source": [
    "import autograd.numpy as np\n",
    "from autograd import grad\n",
    "import pandas as pd\n",
    "import warnings\n",
    "warnings.filterwarnings('ignore')\n",
    "import matplotlib.pyplot as plt\n"
   ]
  },
  {
   "cell_type": "code",
   "execution_count": 84,
   "metadata": {
    "collapsed": true
   },
   "outputs": [],
   "source": [
    "train = pd.read_csv(\"./train\",header=None, names= [\"id\",\"c1\",\"c2\",\"c3\", \"c4\"])"
   ]
  },
  {
   "cell_type": "code",
   "execution_count": 85,
   "metadata": {
    "collapsed": true
   },
   "outputs": [],
   "source": [
    "test = pd.read_csv(\"./test\",header=None, names= [\"id\",\"c1\",\"c2\",\"c3\", \"c4\"])"
   ]
  },
  {
   "cell_type": "code",
   "execution_count": 86,
   "metadata": {
    "collapsed": true
   },
   "outputs": [],
   "source": [
    "def getProblem(id):\n",
    "    problemChunk = train[train[\"id\"]== (\"P\" + str(id))][[\"c1\", \"c2\", \"c3\", \"c4\"]]\n",
    "    return (problemChunk[0:len(problemChunk)-1].values.astype(float), problemChunk[\"c4\"].values[4])\n",
    "  \n",
    "def getTestProblem(id):\n",
    "    problemChunk = test[test[\"id\"]== (\"P\" + str(id))][[\"c1\", \"c2\", \"c3\", \"c4\"]]\n",
    "    return (problemChunk[0:len(problemChunk)-1].values.astype(float), problemChunk[\"c4\"].values[4])\n",
    "    "
   ]
  },
  {
   "cell_type": "code",
   "execution_count": 87,
   "metadata": {
    "collapsed": true
   },
   "outputs": [],
   "source": [
    "def sigmoid(x):\n",
    "    return 0.5 * (np.tanh(x / 2.) + 1)\n",
    "\n",
    "def reason1(formulae, weights):\n",
    "    W = weights[0:4,:]\n",
    "    A = weights[4:8,:]\n",
    "    C = weights[8:12,:]\n",
    "    for d in range(0, 5):\n",
    "        f1 = np.matmul(formulae, W)\n",
    "        formulae = np.add(formulae, np.dot(A, f1))\n",
    "        f2 = np.matmul(formulae, W)\n",
    "        formulae = np.add(formulae, np.dot(A, f2))\n",
    "        c = sigmoid(np.add(f2, np.dot(f1, C)))\n",
    "        formulae = np.add(formulae, np.dot(A, c))\n",
    "    return sigmoid(np.log(np.linalg.norm(formulae)))\n",
    "\n",
    "def reason(formulae, weights):\n",
    "    W = weights[0:4,:]\n",
    "    A = weights[4:8,:]\n",
    "    C = weights[8:12,:]\n",
    "    for d in range(0, 5):\n",
    "        f1 = np.matmul(formulae, W)\n",
    "        formulae = np.add(formulae, np.dot(A, f1))\n",
    "        f2 = np.matmul(formulae, W)\n",
    "        formulae = np.add(formulae, np.dot(A, f2))\n",
    "        c = sigmoid(np.add(f2, np.dot(f1, C)))\n",
    "        formulae = np.add(formulae, np.dot(A, c))\n",
    "    return sigmoid(np.log(np.linalg.norm(formulae)))\n",
    "    \n",
    "    "
   ]
  },
  {
   "cell_type": "code",
   "execution_count": 88,
   "metadata": {
    "collapsed": true
   },
   "outputs": [],
   "source": [
    "W = np.random.randn(4,4)\n",
    "A = np.random.randn(4,4)\n",
    "C = np.random.randn(4,4)"
   ]
  },
  {
   "cell_type": "code",
   "execution_count": 89,
   "metadata": {
    "collapsed": true
   },
   "outputs": [],
   "source": [
    "weights = np.vstack([W, A, C])"
   ]
  },
  {
   "cell_type": "code",
   "execution_count": 90,
   "metadata": {
    "collapsed": true
   },
   "outputs": [],
   "source": [
    "def training_loss(weights):\n",
    "    sumT = 0\n",
    "    # Training loss is the negative log-likelihood of the training labels.\n",
    "    for i in range(0, 100):\n",
    "        problem = getProblem(np.random.randint(0,1000))\n",
    "        target = problem[1]\n",
    "        formulae = problem[0]\n",
    "        pred = reason(formulae, weights)\n",
    "\n",
    "        sumT = sumT  - np.log(pred * target + (1 - pred) * (1 - target))\n",
    "        \n",
    "    return sumT/100\n"
   ]
  },
  {
   "cell_type": "code",
   "execution_count": 91,
   "metadata": {
    "collapsed": true
   },
   "outputs": [],
   "source": [
    "def perf(weights):\n",
    "    sumT = 0\n",
    "    # Training loss is the negative log-likelihood of the training labels.\n",
    "    for i in range(0, 1000):\n",
    "        problem = getTestProblem(i)\n",
    "        target = problem[1]\n",
    "        formulae = problem[0]\n",
    "        pred = reason(formulae, weights)\n",
    "\n",
    "        sumT = sumT  - np.log(pred * target + (1 - pred) * (1 - target))\n",
    "        \n",
    "    return sumT/1000"
   ]
  },
  {
   "cell_type": "code",
   "execution_count": 92,
   "metadata": {
    "collapsed": true
   },
   "outputs": [],
   "source": [
    "training_gradient_fun = grad(training_loss)"
   ]
  },
  {
   "cell_type": "code",
   "execution_count": 93,
   "metadata": {},
   "outputs": [
    {
     "name": "stdout",
     "output_type": "stream",
     "text": [
      "Initial loss: 0.877040918959\n"
     ]
    }
   ],
   "source": [
    "print(\"Initial loss:\", training_loss(weights))"
   ]
  },
  {
   "cell_type": "code",
   "execution_count": 94,
   "metadata": {
    "scrolled": true
   },
   "outputs": [],
   "source": [
    "perf_losses = np.zeros(100)\n",
    "for i in range(100):    \n",
    "    weights -= training_gradient_fun(weights) * 0.20* (1 - i/100)\n",
    "    perf_losses[i] = perf(weights)"
   ]
  },
  {
   "cell_type": "code",
   "execution_count": 95,
   "metadata": {},
   "outputs": [
    {
     "name": "stdout",
     "output_type": "stream",
     "text": [
      "Trained loss: 0.293821995961\n"
     ]
    }
   ],
   "source": [
    "print(\"Trained loss:\", training_loss(weights))"
   ]
  },
  {
   "cell_type": "code",
   "execution_count": 96,
   "metadata": {},
   "outputs": [
    {
     "data": {
      "image/png": "[encoded data removed]",
      "text/plain": [
       "<matplotlib.figure.Figure at 0x10f4c0ba8>"
      ]
     },
     "metadata": {},
     "output_type": "display_data"
    }
   ],
   "source": [
    "plt.plot(perf_losses)\n",
    "plt.ylabel('Test Performance During Training')\n",
    "plt.show()\n"
   ]
  },
  {
   "cell_type": "code",
   "execution_count": 97,
   "metadata": {},
   "outputs": [
    {
     "data": {
      "text/plain": [
       "0.26147687899744143"
      ]
     },
     "execution_count": 97,
     "metadata": {},
     "output_type": "execute_result"
    }
   ],
   "source": [
    "perf(weights)"
   ]
  },
  {
   "cell_type": "code",
   "execution_count": 102,
   "metadata": {
    "collapsed": true
   },
   "outputs": [],
   "source": [
    "def groundPerf():\n",
    "    sumT = 0\n",
    "    # Training loss is the negative log-likelihood of the training labels.\n",
    "    for i in range(0, 1000):\n",
    "        problem = getTestProblem(i)\n",
    "        target = problem[1]\n",
    "        formulae = problem[0]\n",
    "        pred = 0.99\n",
    "\n",
    "        sumT = sumT  - np.log(pred * target + (1 - pred) * (1 - target))\n",
    "        \n",
    "    return sumT/1000"
   ]
  },
  {
   "cell_type": "code",
   "execution_count": 103,
   "metadata": {},
   "outputs": [
    {
     "data": {
      "text/plain": [
       "0.35008920476346239"
      ]
     },
     "execution_count": 103,
     "metadata": {},
     "output_type": "execute_result"
    }
   ],
   "source": [
    "groundPerf()"
   ]
  },
  {
   "cell_type": "code",
   "execution_count": null,
   "metadata": {
    "collapsed": true
   },
   "outputs": [],
   "source": []
  }
 ],
 "metadata": {
  "kernelspec": {
   "display_name": "Python 3",
   "language": "python",
   "name": "python3"
  },
  "language_info": {
   "codemirror_mode": {
    "name": "ipython",
    "version": 3
   },
   "file_extension": ".py",
   "mimetype": "text/x-python",
   "name": "python",
   "nbconvert_exporter": "python",
   "pygments_lexer": "ipython3",
   "version": "3.6.1"
  }
 },
 "nbformat": 4,
 "nbformat_minor": 2
}
